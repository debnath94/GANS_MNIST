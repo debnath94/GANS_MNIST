{
  "cells": [
    {
      "cell_type": "code",
      "execution_count": 1,
      "metadata": {
        "id": "7s7nYxORSI35"
      },
      "outputs": [],
      "source": [
        "#importing libraries\n",
        "import torch\n",
        "import torch.nn as nn\n",
        "import torchvision\n",
        "import torchvision.transforms as transforms\n",
        "from torchvision.utils import save_image\n",
        "import numpy as np\n",
        "import matplotlib.pyplot as plt\n",
        "from datetime import datetime\n",
        "import os"
      ]
    },
    {
      "cell_type": "code",
      "execution_count": 2,
      "metadata": {
        "id": "GXAuS3bLST18"
      },
      "outputs": [],
      "source": [
        "#MNIST -> hand written digits\n",
        "#0 to 255 -> 0 to 1 \n",
        "# assume they are transformed from (0, 1)\n",
        "# min value = (0 - 0.5) / 0.5 = -1\n",
        "# max value = (1 - 0.5) / 0.5 = +1\n",
        "transform = transforms.Compose([\n",
        "    transforms.ToTensor(),\n",
        "    transforms.Normalize(mean=(0.5,),\n",
        "                         std=(0.5,))])"
      ]
    },
    {
      "cell_type": "code",
      "execution_count": 3,
      "metadata": {
        "colab": {
          "base_uri": "https://localhost:8080/",
          "height": 423,
          "referenced_widgets": [
            "5ee01ca50e854eb791603a7a5dbcadff",
            "8d04584e588543c2a86da783d3ac7272",
            "555a97c7722c4d10be5597b1823fe863",
            "e85ed88e975a4ccb9e6d04fd07428e52",
            "2dc72d929f9c41ca9c11acb34bff3b9d",
            "60a583da6bba4a7baf7e4c3379dd0a73",
            "b76fd0afe8f6435aad398d21687b3c87",
            "5920d5169fc144cab7337a7c8f3428ec",
            "8e6c65e2c54d4e56a1c23e09544d3421",
            "15a94550723142f1a133535b280ef710",
            "c2225ce8b19c4e19a5b2176b9fe26f3b",
            "b677faf7be8c4838a02a0df4dd3992f8",
            "d73f4eda2a7b4ebabe431475e3c9a546",
            "7ea8635841a14289bdcaedfa787be2d6",
            "a8b2901bd0284c94922ae49900b87011",
            "98d979f168594488b77a940c26b14ee5",
            "4ec1c1756fe148719df81c40d8c0f8f0",
            "add5aa75fc804cbb97b17450b6b39da2",
            "a555496aab474b729eff724cd3cf18ab",
            "54ce8888bfe84a3089da016bd5b649ed",
            "23538b17611d4b9091a09a2a83bf145e",
            "2163bb77ac45493d9815c4abeae48bec",
            "1249401aea0447a58b8cc3ed10ac479b",
            "3e185461b5524da3b42513bf81135c70",
            "c4c3d1d5015e476a8cfa754e1a6c724e",
            "5f475fdf0e51457ca97812da0ad5a947",
            "dc6bbfd01cd949cfa0840de7772e7859",
            "4d2af1b4a03c4a21baad6d8aa7d96935",
            "4569eef4e4704ecaa9037e8e621a7af6",
            "fdb25db685af45b9b2b4542cf37a9d0f",
            "ee93e0843ef74259b698d246daeda6af",
            "5a0c8881bc164210b19213890abc4129",
            "96dcc78131e845eaad0bac3291aad96c",
            "3029e9b6ae0f48cc97abaf71c0c7bbd9",
            "f486067852d54942919c506807fe2020",
            "0e9b47db295f449288adab77b11fe135",
            "365d7ebb83084eb5a1956a7c07c139ce",
            "7a8e792596af43799f38756aa024109d",
            "f961ded0013b4fb7aaa5fd6c110fea3e",
            "03550da3fcef4781bd6166a06a52f4ef",
            "160072b8ad9644d28da4ea7010381da4",
            "e216b50ff38640bfaafe58caab8b3243",
            "3150c4cb37234c5db3a043a960a5784e",
            "62f290601c754499b169b7767cb7ae4f"
          ]
        },
        "id": "7Tcal-V9SZdU",
        "outputId": "527a2796-84be-427a-8f1d-19f03a9f1f5f"
      },
      "outputs": [
        {
          "name": "stdout",
          "output_type": "stream",
          "text": [
            "Downloading http://yann.lecun.com/exdb/mnist/train-images-idx3-ubyte.gz\n",
            "Downloading http://yann.lecun.com/exdb/mnist/train-images-idx3-ubyte.gz to ./MNIST/raw/train-images-idx3-ubyte.gz\n"
          ]
        },
        {
          "data": {
            "application/vnd.jupyter.widget-view+json": {
              "model_id": "5ee01ca50e854eb791603a7a5dbcadff",
              "version_major": 2,
              "version_minor": 0
            },
            "text/plain": [
              "  0%|          | 0/9912422 [00:00<?, ?it/s]"
            ]
          },
          "metadata": {},
          "output_type": "display_data"
        },
        {
          "name": "stdout",
          "output_type": "stream",
          "text": [
            "Extracting ./MNIST/raw/train-images-idx3-ubyte.gz to ./MNIST/raw\n",
            "\n",
            "Downloading http://yann.lecun.com/exdb/mnist/train-labels-idx1-ubyte.gz\n",
            "Downloading http://yann.lecun.com/exdb/mnist/train-labels-idx1-ubyte.gz to ./MNIST/raw/train-labels-idx1-ubyte.gz\n"
          ]
        },
        {
          "data": {
            "application/vnd.jupyter.widget-view+json": {
              "model_id": "b677faf7be8c4838a02a0df4dd3992f8",
              "version_major": 2,
              "version_minor": 0
            },
            "text/plain": [
              "  0%|          | 0/28881 [00:00<?, ?it/s]"
            ]
          },
          "metadata": {},
          "output_type": "display_data"
        },
        {
          "name": "stdout",
          "output_type": "stream",
          "text": [
            "Extracting ./MNIST/raw/train-labels-idx1-ubyte.gz to ./MNIST/raw\n",
            "\n",
            "Downloading http://yann.lecun.com/exdb/mnist/t10k-images-idx3-ubyte.gz\n",
            "Downloading http://yann.lecun.com/exdb/mnist/t10k-images-idx3-ubyte.gz to ./MNIST/raw/t10k-images-idx3-ubyte.gz\n"
          ]
        },
        {
          "data": {
            "application/vnd.jupyter.widget-view+json": {
              "model_id": "1249401aea0447a58b8cc3ed10ac479b",
              "version_major": 2,
              "version_minor": 0
            },
            "text/plain": [
              "  0%|          | 0/1648877 [00:00<?, ?it/s]"
            ]
          },
          "metadata": {},
          "output_type": "display_data"
        },
        {
          "name": "stdout",
          "output_type": "stream",
          "text": [
            "Extracting ./MNIST/raw/t10k-images-idx3-ubyte.gz to ./MNIST/raw\n",
            "\n",
            "Downloading http://yann.lecun.com/exdb/mnist/t10k-labels-idx1-ubyte.gz\n",
            "Downloading http://yann.lecun.com/exdb/mnist/t10k-labels-idx1-ubyte.gz to ./MNIST/raw/t10k-labels-idx1-ubyte.gz\n"
          ]
        },
        {
          "data": {
            "application/vnd.jupyter.widget-view+json": {
              "model_id": "3029e9b6ae0f48cc97abaf71c0c7bbd9",
              "version_major": 2,
              "version_minor": 0
            },
            "text/plain": [
              "  0%|          | 0/4542 [00:00<?, ?it/s]"
            ]
          },
          "metadata": {},
          "output_type": "display_data"
        },
        {
          "name": "stdout",
          "output_type": "stream",
          "text": [
            "Extracting ./MNIST/raw/t10k-labels-idx1-ubyte.gz to ./MNIST/raw\n",
            "\n"
          ]
        }
      ],
      "source": [
        "#downloading the dataset\n",
        "train_dataset = torchvision.datasets.MNIST(\n",
        "    root='.',\n",
        "    train=True,\n",
        "    transform=transform,\n",
        "    download=True)"
      ]
    },
    {
      "cell_type": "code",
      "execution_count": 4,
      "metadata": {
        "colab": {
          "base_uri": "https://localhost:8080/"
        },
        "id": "5X2U8lEZSdYH",
        "outputId": "629845fb-0796-4cf5-e69d-6094afa4f612"
      },
      "outputs": [
        {
          "data": {
            "text/plain": [
              "60000"
            ]
          },
          "execution_count": 4,
          "metadata": {},
          "output_type": "execute_result"
        }
      ],
      "source": [
        "#Shape of the dataset\n",
        "len(train_dataset)"
      ]
    },
    {
      "cell_type": "code",
      "execution_count": 5,
      "metadata": {
        "id": "Ahe6TbI0Sg1e"
      },
      "outputs": [],
      "source": [
        "# Preparing the model\n",
        "batch_size = 128\n",
        "data_loader = torch.utils.data.DataLoader(dataset=train_dataset,\n",
        "                                          batch_size=batch_size, \n",
        "                                          shuffle=True)"
      ]
    },
    {
      "cell_type": "code",
      "execution_count": 6,
      "metadata": {
        "id": "cUhaaSffSlop"
      },
      "outputs": [],
      "source": [
        "# Discriminator ANN\n",
        "D = nn.Sequential(\n",
        "    nn.Linear(784, 512),\n",
        "    nn.LeakyReLU(0.2),\n",
        "    nn.Linear(512, 256),\n",
        "    nn.LeakyReLU(0.2),\n",
        "    nn.Linear(256, 1),\n",
        "    # nn.Sigmoid()\n",
        ")"
      ]
    },
    {
      "cell_type": "code",
      "execution_count": 7,
      "metadata": {
        "id": "oHYjHRLsVV2v"
      },
      "outputs": [],
      "source": [
        "# Generator\n",
        "latent_dim = 100\n",
        "G = nn.Sequential(\n",
        "    nn.Linear(latent_dim, 256),\n",
        "    nn.LeakyReLU(0.2),\n",
        "    nn.BatchNorm1d(256, momentum=0.7),\n",
        "    nn.Linear(256, 512),\n",
        "    nn.LeakyReLU(0.2),\n",
        "    nn.BatchNorm1d(512, momentum=0.7),\n",
        "    nn.Linear(512, 1024),\n",
        "    nn.LeakyReLU(0.2),\n",
        "    nn.BatchNorm1d(1024, momentum=0.7),\n",
        "    nn.Linear(1024, 784),     #28*28 -> image size of MNIST dataset\n",
        "    nn.Tanh()    #-> -1 to 1     \n",
        ")"
      ]
    },
    {
      "cell_type": "code",
      "execution_count": 8,
      "metadata": {
        "id": "8sWjaC5SVdR_"
      },
      "outputs": [],
      "source": [
        "device = torch.device('cuda:0' if torch.cuda.is_available() else 'cpu')\n",
        "D = D.to(device)\n",
        "G = G.to(device)"
      ]
    },
    {
      "cell_type": "code",
      "execution_count": 9,
      "metadata": {
        "id": "PBYO9sVDVhGH"
      },
      "outputs": [],
      "source": [
        "criterion = nn.BCEWithLogitsLoss()\n",
        "d_optimizer = torch.optim.Adam(D.parameters(), lr=0.0002, betas=(0.5, 0.999))\n",
        "g_optimizer = torch.optim.Adam(G.parameters(), lr=0.0002, betas=(0.5, 0.999))"
      ]
    },
    {
      "cell_type": "code",
      "execution_count": 10,
      "metadata": {
        "id": "Q9c26CdHVjzj"
      },
      "outputs": [],
      "source": [
        "# scale image back to (0, 1)\n",
        "def scale_image(img):\n",
        "  out = (img + 1) / 2   # -1 and 1 =>-1+1/2 = 0 and 1+1/2 =1\n",
        "  return out"
      ]
    },
    {
      "cell_type": "code",
      "execution_count": 11,
      "metadata": {
        "id": "YpN2MRPKVmWj"
      },
      "outputs": [],
      "source": [
        "# Create a folder to store generated images\n",
        "if not os.path.exists('gan_images'):\n",
        "  os.makedirs('gan_images')"
      ]
    },
    {
      "cell_type": "code",
      "execution_count": 12,
      "metadata": {
        "colab": {
          "base_uri": "https://localhost:8080/"
        },
        "id": "IbYePw6yVqwS",
        "outputId": "505e390e-1ed9-4c1a-d9d1-7d31d1a2a1a3"
      },
      "outputs": [
        {
          "name": "stdout",
          "output_type": "stream",
          "text": [
            "Epoch: 0, d_loss: 0.6774535775184631, g_loss: 0.6915645599365234\n",
            "Epoch: 1, d_loss: 0.6775370836257935, g_loss: 0.7191166877746582\n",
            "Epoch: 2, d_loss: 0.6639036536216736, g_loss: 0.7685429453849792\n",
            "Epoch: 3, d_loss: 0.6635621786117554, g_loss: 0.8378428220748901\n",
            "Epoch: 4, d_loss: 0.6924730539321899, g_loss: 0.7105058431625366\n",
            "Epoch: 5, d_loss: 0.6771416664123535, g_loss: 0.6858085989952087\n",
            "Epoch: 6, d_loss: 0.6876533031463623, g_loss: 0.7357231974601746\n",
            "Epoch: 7, d_loss: 0.6799811124801636, g_loss: 0.8019652366638184\n",
            "Epoch: 8, d_loss: 0.7048765420913696, g_loss: 0.70152348279953\n",
            "Epoch: 9, d_loss: 0.6812350749969482, g_loss: 0.7374727725982666\n",
            "Epoch: 10, d_loss: 0.6858258843421936, g_loss: 0.693205714225769\n",
            "Epoch: 11, d_loss: 0.6708396673202515, g_loss: 0.7170960903167725\n",
            "Epoch: 12, d_loss: 0.6723779439926147, g_loss: 0.7859138250350952\n",
            "Epoch: 13, d_loss: 0.6913808584213257, g_loss: 0.703828752040863\n",
            "Epoch: 14, d_loss: 0.6838310360908508, g_loss: 0.6930224299430847\n",
            "Epoch: 15, d_loss: 0.6876521706581116, g_loss: 0.7715359926223755\n",
            "Epoch: 16, d_loss: 0.6829462051391602, g_loss: 0.7503632307052612\n",
            "Epoch: 17, d_loss: 0.6918571591377258, g_loss: 0.6846599578857422\n",
            "Epoch: 18, d_loss: 0.6846383213996887, g_loss: 0.7428648471832275\n",
            "Epoch: 19, d_loss: 0.6986484527587891, g_loss: 0.6861541271209717\n",
            "Epoch: 20, d_loss: 0.6891511678695679, g_loss: 0.7747771143913269\n",
            "Epoch: 21, d_loss: 0.6875722408294678, g_loss: 0.766307532787323\n",
            "Epoch: 22, d_loss: 0.6736874580383301, g_loss: 0.7571620941162109\n",
            "Epoch: 23, d_loss: 0.6811468005180359, g_loss: 0.7042881846427917\n",
            "Epoch: 24, d_loss: 0.6877080202102661, g_loss: 0.6954731941223145\n",
            "Epoch: 25, d_loss: 0.6810721158981323, g_loss: 0.7480237483978271\n",
            "Epoch: 26, d_loss: 0.6829725503921509, g_loss: 0.7503072619438171\n",
            "Epoch: 27, d_loss: 0.670716404914856, g_loss: 0.7215046286582947\n",
            "Epoch: 28, d_loss: 0.6718756556510925, g_loss: 0.716395378112793\n",
            "Epoch: 29, d_loss: 0.693325936794281, g_loss: 0.7300475835800171\n",
            "Epoch: 30, d_loss: 0.6925238370895386, g_loss: 0.7133108377456665\n",
            "Epoch: 31, d_loss: 0.6818495988845825, g_loss: 0.7337283492088318\n",
            "Epoch: 32, d_loss: 0.6716873049736023, g_loss: 0.7704868316650391\n",
            "Epoch: 33, d_loss: 0.6723264455795288, g_loss: 0.775448203086853\n",
            "Epoch: 34, d_loss: 0.6729974746704102, g_loss: 0.7608811855316162\n",
            "Epoch: 35, d_loss: 0.6787833571434021, g_loss: 0.7399020195007324\n",
            "Epoch: 36, d_loss: 0.6805312633514404, g_loss: 0.7439942359924316\n",
            "Epoch: 37, d_loss: 0.6977488994598389, g_loss: 0.6416622400283813\n",
            "Epoch: 38, d_loss: 0.6802717447280884, g_loss: 0.7490493655204773\n",
            "Epoch: 39, d_loss: 0.681799590587616, g_loss: 0.7437559962272644\n",
            "Epoch: 40, d_loss: 0.6751838326454163, g_loss: 0.757193922996521\n",
            "Epoch: 41, d_loss: 0.6741943359375, g_loss: 0.8092021942138672\n",
            "Epoch: 42, d_loss: 0.6890394687652588, g_loss: 0.7740292549133301\n",
            "Epoch: 43, d_loss: 0.6733518242835999, g_loss: 0.7433220744132996\n",
            "Epoch: 44, d_loss: 0.6732161045074463, g_loss: 0.7996379733085632\n",
            "Epoch: 45, d_loss: 0.6851189136505127, g_loss: 0.713994026184082\n",
            "Epoch: 46, d_loss: 0.6898493766784668, g_loss: 0.6434192657470703\n",
            "Epoch: 47, d_loss: 0.6583892107009888, g_loss: 0.7666682004928589\n",
            "Epoch: 48, d_loss: 0.6755562424659729, g_loss: 0.793570876121521\n",
            "Epoch: 49, d_loss: 0.6620816588401794, g_loss: 0.8010883331298828\n",
            "Epoch: 50, d_loss: 0.6813697814941406, g_loss: 0.7476695775985718\n",
            "Epoch: 51, d_loss: 0.6802042722702026, g_loss: 0.7937080264091492\n",
            "Epoch: 52, d_loss: 0.6747716665267944, g_loss: 0.7890108823776245\n",
            "Epoch: 53, d_loss: 0.6617365479469299, g_loss: 0.7200581431388855\n",
            "Epoch: 54, d_loss: 0.6626557111740112, g_loss: 0.7349221110343933\n",
            "Epoch: 55, d_loss: 0.662207305431366, g_loss: 0.6877648234367371\n",
            "Epoch: 56, d_loss: 0.669655978679657, g_loss: 0.8130437731742859\n",
            "Epoch: 57, d_loss: 0.6843972206115723, g_loss: 0.9186185598373413\n",
            "Epoch: 58, d_loss: 0.693691611289978, g_loss: 0.6341239213943481\n",
            "Epoch: 59, d_loss: 0.6649057865142822, g_loss: 0.7261989116668701\n",
            "Epoch: 60, d_loss: 0.6641455292701721, g_loss: 0.7337058782577515\n",
            "Epoch: 61, d_loss: 0.6388781070709229, g_loss: 0.8020625114440918\n",
            "Epoch: 62, d_loss: 0.6480379104614258, g_loss: 0.9283159971237183\n",
            "Epoch: 63, d_loss: 0.6572163701057434, g_loss: 0.7290093302726746\n",
            "Epoch: 64, d_loss: 0.6770234107971191, g_loss: 0.7759110331535339\n",
            "Epoch: 65, d_loss: 0.6534204483032227, g_loss: 0.6938730478286743\n",
            "Epoch: 66, d_loss: 0.648115873336792, g_loss: 0.7140674591064453\n",
            "Epoch: 67, d_loss: 0.6583183407783508, g_loss: 0.6365724802017212\n",
            "Epoch: 68, d_loss: 0.640091061592102, g_loss: 0.806029200553894\n",
            "Epoch: 69, d_loss: 0.6562057733535767, g_loss: 0.7263481020927429\n",
            "Epoch: 70, d_loss: 0.6337231397628784, g_loss: 0.728024959564209\n",
            "Epoch: 71, d_loss: 0.6627556681632996, g_loss: 0.8785009384155273\n",
            "Epoch: 72, d_loss: 0.6792101860046387, g_loss: 0.6880011558532715\n",
            "Epoch: 73, d_loss: 0.660367488861084, g_loss: 0.6684002876281738\n",
            "Epoch: 74, d_loss: 0.6714344024658203, g_loss: 0.6730339527130127\n",
            "Epoch: 75, d_loss: 0.6711685657501221, g_loss: 0.8415393233299255\n",
            "Epoch: 76, d_loss: 0.6580901145935059, g_loss: 0.6346543431282043\n",
            "Epoch: 77, d_loss: 0.6424465775489807, g_loss: 0.798349142074585\n",
            "Epoch: 78, d_loss: 0.6815820932388306, g_loss: 0.8094168901443481\n",
            "Epoch: 79, d_loss: 0.6524282097816467, g_loss: 0.8238430023193359\n",
            "Epoch: 80, d_loss: 0.6500359773635864, g_loss: 0.7920345664024353\n",
            "Epoch: 81, d_loss: 0.641088604927063, g_loss: 0.8124083280563354\n",
            "Epoch: 82, d_loss: 0.6570431590080261, g_loss: 0.788777232170105\n",
            "Epoch: 83, d_loss: 0.6332025527954102, g_loss: 0.8931815028190613\n",
            "Epoch: 84, d_loss: 0.6132833361625671, g_loss: 0.9129694700241089\n",
            "Epoch: 85, d_loss: 0.6321380138397217, g_loss: 0.612548291683197\n",
            "Epoch: 86, d_loss: 0.6535438299179077, g_loss: 0.9765099287033081\n",
            "Epoch: 87, d_loss: 0.6407381296157837, g_loss: 0.676921546459198\n",
            "Epoch: 88, d_loss: 0.6467530727386475, g_loss: 0.7220410108566284\n",
            "Epoch: 89, d_loss: 0.6681838035583496, g_loss: 0.9891189336776733\n",
            "Epoch: 90, d_loss: 0.6544649600982666, g_loss: 0.7693630456924438\n",
            "Epoch: 91, d_loss: 0.6677711606025696, g_loss: 1.1302818059921265\n",
            "Epoch: 92, d_loss: 0.6537394523620605, g_loss: 0.9686301946640015\n",
            "Epoch: 93, d_loss: 0.6396054029464722, g_loss: 0.889428973197937\n",
            "Epoch: 94, d_loss: 0.6644935607910156, g_loss: 0.6936821937561035\n",
            "Epoch: 95, d_loss: 0.6683125495910645, g_loss: 0.6653735637664795\n",
            "Epoch: 96, d_loss: 0.6415659189224243, g_loss: 1.0788018703460693\n",
            "Epoch: 97, d_loss: 0.6259338855743408, g_loss: 0.8157256841659546\n",
            "Epoch: 98, d_loss: 0.6429003477096558, g_loss: 0.7151939272880554\n",
            "Epoch: 99, d_loss: 0.616044819355011, g_loss: 0.8236565589904785\n",
            "Epoch: 100, d_loss: 0.6202600002288818, g_loss: 0.8864626884460449\n",
            "Epoch: 101, d_loss: 0.6210275888442993, g_loss: 0.6523095965385437\n",
            "Epoch: 102, d_loss: 0.653774619102478, g_loss: 0.7130439281463623\n",
            "Epoch: 103, d_loss: 0.6500617265701294, g_loss: 0.6593059301376343\n",
            "Epoch: 104, d_loss: 0.6274530291557312, g_loss: 0.7567593455314636\n",
            "Epoch: 105, d_loss: 0.6507939100265503, g_loss: 0.7693508863449097\n",
            "Epoch: 106, d_loss: 0.6242798566818237, g_loss: 0.7725763320922852\n",
            "Epoch: 107, d_loss: 0.6441208124160767, g_loss: 0.8482584953308105\n",
            "Epoch: 108, d_loss: 0.6322121024131775, g_loss: 0.9642519950866699\n",
            "Epoch: 109, d_loss: 0.6363552212715149, g_loss: 0.8870339393615723\n",
            "Epoch: 110, d_loss: 0.6231038570404053, g_loss: 0.8343142867088318\n",
            "Epoch: 111, d_loss: 0.6245673298835754, g_loss: 0.8870223760604858\n",
            "Epoch: 112, d_loss: 0.6169581413269043, g_loss: 0.9423900842666626\n",
            "Epoch: 113, d_loss: 0.6794797778129578, g_loss: 1.273529291152954\n",
            "Epoch: 114, d_loss: 0.6381555795669556, g_loss: 0.9104287624359131\n",
            "Epoch: 115, d_loss: 0.6056264638900757, g_loss: 1.0073351860046387\n",
            "Epoch: 116, d_loss: 0.648550808429718, g_loss: 1.0651721954345703\n",
            "Epoch: 117, d_loss: 0.6954734921455383, g_loss: 1.0158841609954834\n",
            "Epoch: 118, d_loss: 0.6050701141357422, g_loss: 0.76152503490448\n",
            "Epoch: 119, d_loss: 0.6235544085502625, g_loss: 0.7489607334136963\n",
            "Epoch: 120, d_loss: 0.6197482943534851, g_loss: 0.8091042041778564\n",
            "Epoch: 121, d_loss: 0.6341742277145386, g_loss: 0.6963579058647156\n",
            "Epoch: 122, d_loss: 0.5932187438011169, g_loss: 0.8703508377075195\n",
            "Epoch: 123, d_loss: 0.617840051651001, g_loss: 0.7990962266921997\n",
            "Epoch: 124, d_loss: 0.5996372103691101, g_loss: 1.0275146961212158\n",
            "Epoch: 125, d_loss: 0.6066708564758301, g_loss: 0.7922956347465515\n",
            "Epoch: 126, d_loss: 0.6206045150756836, g_loss: 0.8259353637695312\n",
            "Epoch: 127, d_loss: 0.6096718311309814, g_loss: 0.6996106505393982\n",
            "Epoch: 128, d_loss: 0.6340010762214661, g_loss: 1.0030815601348877\n",
            "Epoch: 129, d_loss: 0.6428006887435913, g_loss: 0.7713996767997742\n",
            "Epoch: 130, d_loss: 0.5991462469100952, g_loss: 0.8755294680595398\n",
            "Epoch: 131, d_loss: 0.6369590759277344, g_loss: 0.9639434814453125\n",
            "Epoch: 132, d_loss: 0.6291815638542175, g_loss: 0.9572016000747681\n",
            "Epoch: 133, d_loss: 0.6076267957687378, g_loss: 0.6274597644805908\n",
            "Epoch: 134, d_loss: 0.6102507710456848, g_loss: 0.899036169052124\n",
            "Epoch: 135, d_loss: 0.6395654678344727, g_loss: 0.9082662463188171\n",
            "Epoch: 136, d_loss: 0.6563560962677002, g_loss: 0.4081984758377075\n",
            "Epoch: 137, d_loss: 0.6124290227890015, g_loss: 0.9760996103286743\n",
            "Epoch: 138, d_loss: 0.5894436240196228, g_loss: 0.8229130506515503\n",
            "Epoch: 139, d_loss: 0.5940811038017273, g_loss: 0.7222506403923035\n",
            "Epoch: 140, d_loss: 0.5891052484512329, g_loss: 1.1443471908569336\n",
            "Epoch: 141, d_loss: 0.6447033882141113, g_loss: 0.7494980692863464\n",
            "Epoch: 142, d_loss: 0.630272388458252, g_loss: 0.797182559967041\n",
            "Epoch: 143, d_loss: 0.6079885959625244, g_loss: 0.699019193649292\n",
            "Epoch: 144, d_loss: 0.5905606746673584, g_loss: 0.9996051788330078\n",
            "Epoch: 145, d_loss: 0.6103798151016235, g_loss: 0.9922245740890503\n",
            "Epoch: 146, d_loss: 0.6024506688117981, g_loss: 0.9922323226928711\n",
            "Epoch: 147, d_loss: 0.5835220813751221, g_loss: 0.9186844825744629\n",
            "Epoch: 148, d_loss: 0.6285244822502136, g_loss: 1.214516043663025\n",
            "Epoch: 149, d_loss: 0.6228511333465576, g_loss: 1.2015466690063477\n",
            "Epoch: 150, d_loss: 0.6276528835296631, g_loss: 1.2522432804107666\n",
            "Epoch: 151, d_loss: 0.5554875135421753, g_loss: 0.9580894708633423\n",
            "Epoch: 152, d_loss: 0.5855023860931396, g_loss: 1.033896803855896\n",
            "Epoch: 153, d_loss: 0.6049897074699402, g_loss: 0.713629424571991\n",
            "Epoch: 154, d_loss: 0.6524039506912231, g_loss: 1.2287260293960571\n",
            "Epoch: 155, d_loss: 0.6033445596694946, g_loss: 1.0436646938323975\n",
            "Epoch: 156, d_loss: 0.6162718534469604, g_loss: 0.7484015226364136\n",
            "Epoch: 157, d_loss: 0.59740149974823, g_loss: 1.072857141494751\n",
            "Epoch: 158, d_loss: 0.568302571773529, g_loss: 0.9259089231491089\n",
            "Epoch: 159, d_loss: 0.5718950033187866, g_loss: 0.8836708068847656\n",
            "Epoch: 160, d_loss: 0.6346848607063293, g_loss: 0.7416940927505493\n",
            "Epoch: 161, d_loss: 0.5852138996124268, g_loss: 1.174269437789917\n",
            "Epoch: 162, d_loss: 0.5735551118850708, g_loss: 1.161857008934021\n",
            "Epoch: 163, d_loss: 0.602692723274231, g_loss: 1.2864073514938354\n",
            "Epoch: 164, d_loss: 0.6002324819564819, g_loss: 0.7956134676933289\n",
            "Epoch: 165, d_loss: 0.597463846206665, g_loss: 1.017823576927185\n",
            "Epoch: 166, d_loss: 0.5997875332832336, g_loss: 0.8578085899353027\n",
            "Epoch: 167, d_loss: 0.5887346267700195, g_loss: 0.7048195600509644\n",
            "Epoch: 168, d_loss: 0.6021078824996948, g_loss: 0.8295423984527588\n",
            "Epoch: 169, d_loss: 0.6144403219223022, g_loss: 0.999769389629364\n",
            "Epoch: 170, d_loss: 0.6482537984848022, g_loss: 0.9005998373031616\n",
            "Epoch: 171, d_loss: 0.6759412288665771, g_loss: 1.3203614950180054\n",
            "Epoch: 172, d_loss: 0.6025777459144592, g_loss: 1.096997618675232\n",
            "Epoch: 173, d_loss: 0.5824986696243286, g_loss: 1.2244056463241577\n",
            "Epoch: 174, d_loss: 0.6245567798614502, g_loss: 0.8386192321777344\n",
            "Epoch: 175, d_loss: 0.6451542377471924, g_loss: 0.7574456930160522\n",
            "Epoch: 176, d_loss: 0.5766571760177612, g_loss: 0.6775791049003601\n",
            "Epoch: 177, d_loss: 0.5734058618545532, g_loss: 1.1496027708053589\n",
            "Epoch: 178, d_loss: 0.5861974954605103, g_loss: 1.332919955253601\n",
            "Epoch: 179, d_loss: 0.5865813493728638, g_loss: 0.9424759745597839\n",
            "Epoch: 180, d_loss: 0.6557454466819763, g_loss: 1.2584185600280762\n",
            "Epoch: 181, d_loss: 0.6246541738510132, g_loss: 0.7045812606811523\n",
            "Epoch: 182, d_loss: 0.6310210227966309, g_loss: 1.4206527471542358\n",
            "Epoch: 183, d_loss: 0.5654133558273315, g_loss: 1.0165737867355347\n",
            "Epoch: 184, d_loss: 0.6373864412307739, g_loss: 1.3391845226287842\n",
            "Epoch: 185, d_loss: 0.5754102468490601, g_loss: 0.9218370318412781\n",
            "Epoch: 186, d_loss: 0.6165950894355774, g_loss: 0.9307224154472351\n",
            "Epoch: 187, d_loss: 0.6163020133972168, g_loss: 0.8752209544181824\n",
            "Epoch: 188, d_loss: 0.5789811611175537, g_loss: 1.027707815170288\n",
            "Epoch: 189, d_loss: 0.6182031035423279, g_loss: 0.6375170350074768\n",
            "Epoch: 190, d_loss: 0.6144504547119141, g_loss: 1.3045696020126343\n",
            "Epoch: 191, d_loss: 0.5896989107131958, g_loss: 0.8739478588104248\n",
            "Epoch: 192, d_loss: 0.5789890289306641, g_loss: 1.2400189638137817\n",
            "Epoch: 193, d_loss: 0.5554894208908081, g_loss: 1.2107274532318115\n",
            "Epoch: 194, d_loss: 0.5542428493499756, g_loss: 0.708505392074585\n",
            "Epoch: 195, d_loss: 0.5971614122390747, g_loss: 0.6755633354187012\n",
            "Epoch: 196, d_loss: 0.5648238062858582, g_loss: 0.8907184600830078\n",
            "Epoch: 197, d_loss: 0.5902442336082458, g_loss: 0.9744998216629028\n",
            "Epoch: 198, d_loss: 0.577492892742157, g_loss: 0.9196871519088745\n",
            "Epoch: 199, d_loss: 0.5668914914131165, g_loss: 1.045613169670105\n"
          ]
        }
      ],
      "source": [
        "# Training loop\n",
        "\n",
        "# labels to use in the loop\n",
        "ones_ = torch.ones(batch_size, 1).to(device)\n",
        "zeros_ = torch.zeros(batch_size, 1).to(device)\n",
        "\n",
        "# save losses\n",
        "d_losses = []\n",
        "g_losses = []\n",
        "\n",
        "for epoch in range(200):\n",
        "  for inputs, _ in data_loader:\n",
        "    # don't need targets\n",
        "\n",
        "    # reshape and move to GPU\n",
        "    n = inputs.size(0)\n",
        "    inputs = inputs.reshape(n, 784).to(device)\n",
        "\n",
        "    # set ones and zeros to correct size\n",
        "    ones = ones_[:n]\n",
        "    zeros = zeros_[:n]\n",
        "\n",
        "\n",
        "    ###########################\n",
        "    ### Train discriminator ###\n",
        "    ###########################\n",
        "\n",
        "    # real images\n",
        "    real_outputs = D(inputs)\n",
        "    d_loss_real = criterion(real_outputs, ones)\n",
        "\n",
        "    # fake images\n",
        "    noise = torch.randn(n, latent_dim).to(device)\n",
        "    fake_images = G(noise)\n",
        "    fake_outputs = D(fake_images)\n",
        "    d_loss_fake = criterion(fake_outputs, zeros)\n",
        "\n",
        "    # gradient descent step\n",
        "    d_loss = 0.5 * (d_loss_real + d_loss_fake) # real_loss+fake_loss/2\n",
        "    d_optimizer.zero_grad()\n",
        "    g_optimizer.zero_grad()\n",
        "    d_loss.backward()\n",
        "    d_optimizer.step()\n",
        "\n",
        "    #######################\n",
        "    ### Train generator ###\n",
        "    #######################\n",
        "\n",
        "    # do it twice:\n",
        "    for _ in range(2):\n",
        "      # fake images\n",
        "      noise = torch.randn(n, latent_dim).to(device)\n",
        "      fake_images = G(noise)\n",
        "      fake_outputs = D(fake_images) #-> 0\n",
        "\n",
        "      # reverse the labels!\n",
        "      g_loss = criterion(fake_outputs, ones) #-> 1\n",
        "\n",
        "      # gradient descent step\n",
        "      d_optimizer.zero_grad()\n",
        "      g_optimizer.zero_grad()\n",
        "      g_loss.backward()\n",
        "      g_optimizer.step()\n",
        "\n",
        "    # save losses\n",
        "    d_losses.append(d_loss.item())\n",
        "    g_losses.append(g_loss.item())\n",
        "\n",
        "\n",
        "  ### print and save things ###\n",
        "  print(f\"Epoch: {epoch}, d_loss: {d_loss.item()}, g_loss: {g_loss.item()}\")\n",
        "\n",
        "  # PyTorch has a function to save a batch of images to file\n",
        "  fake_images = fake_images.reshape(-1, 1, 28, 28)\n",
        "  save_image(scale_image(fake_images), f\"gan_images/{epoch+1}.png\")"
      ]
    },
    {
      "cell_type": "code",
      "execution_count": 13,
      "metadata": {
        "colab": {
          "base_uri": "https://localhost:8080/",
          "height": 282
        },
        "id": "LbKWtd0xgTiq",
        "outputId": "a0f44424-40dd-400c-d7e9-d5861a4310a3"
      },
      "outputs": [
        {
          "data": {
            "text/plain": [
              "<matplotlib.legend.Legend at 0x7ff6343787f0>"
            ]
          },
          "execution_count": 13,
          "metadata": {},
          "output_type": "execute_result"
        },
        {
          "data": {
            "image/png": "[encoded data removed]",
            "text/plain": [
              "<Figure size 432x288 with 1 Axes>"
            ]
          },
          "metadata": {
            "needs_background": "light"
          },
          "output_type": "display_data"
        }
      ],
      "source": [
        "plt.plot(g_losses, label='g_losses')\n",
        "plt.plot(d_losses, label='d_losses')\n",
        "plt.legend()"
      ]
    },
    {
      "cell_type": "code",
      "execution_count": 14,
      "metadata": {
        "colab": {
          "base_uri": "https://localhost:8080/",
          "height": 286
        },
        "id": "eDV46U3Ijfft",
        "outputId": "6d563bd8-0429-4b94-80ad-3b4b6c4367d2"
      },
      "outputs": [
        {
          "data": {
            "text/plain": [
              "<matplotlib.image.AxesImage at 0x7ff6143d8a30>"
            ]
          },
          "execution_count": 14,
          "metadata": {},
          "output_type": "execute_result"
        },
        {
          "data": {
            "image/png": "[encoded data removed]",
            "text/plain": [
              "<Figure size 432x288 with 1 Axes>"
            ]
          },
          "metadata": {
            "needs_background": "light"
          },
          "output_type": "display_data"
        }
      ],
      "source": [
        "from skimage.io import imread\n",
        "a = imread('gan_images/1.png')\n",
        "plt.imshow(a)"
      ]
    },
    {
      "cell_type": "code",
      "execution_count": 15,
      "metadata": {
        "colab": {
          "base_uri": "https://localhost:8080/",
          "height": 286
        },
        "id": "6ZT7c6onjiHX",
        "outputId": "9ffadf87-7fba-454b-938e-fb1c342cf6e3"
      },
      "outputs": [
        {
          "data": {
            "text/plain": [
              "<matplotlib.image.AxesImage at 0x7ff61434ca30>"
            ]
          },
          "execution_count": 15,
          "metadata": {},
          "output_type": "execute_result"
        },
        {
          "data": {
            "image/png": "[encoded data removed]",
            "text/plain": [
              "<Figure size 432x288 with 1 Axes>"
            ]
          },
          "metadata": {
            "needs_background": "light"
          },
          "output_type": "display_data"
        }
      ],
      "source": [
        "a = imread('gan_images/50.png')\n",
        "plt.imshow(a)"
      ]
    },
    {
      "cell_type": "code",
      "execution_count": 16,
      "metadata": {
        "colab": {
          "base_uri": "https://localhost:8080/",
          "height": 286
        },
        "id": "1uGFaHvjjk2E",
        "outputId": "dc5241e8-c9e1-4078-f799-e0878c47dbe9"
      },
      "outputs": [
        {
          "data": {
            "text/plain": [
              "<matplotlib.image.AxesImage at 0x7ff6142a5040>"
            ]
          },
          "execution_count": 16,
          "metadata": {},
          "output_type": "execute_result"
        },
        {
          "data": {
            "image/png": "[encoded data removed]",
            "text/plain": [
              "<Figure size 432x288 with 1 Axes>"
            ]
          },
          "metadata": {
            "needs_background": "light"
          },
          "output_type": "display_data"
        }
      ],
      "source": [
        "a = imread('gan_images/100.png')\n",
        "plt.imshow(a)"
      ]
    },
    {
      "cell_type": "code",
      "execution_count": 17,
      "metadata": {
        "colab": {
          "base_uri": "https://localhost:8080/",
          "height": 286
        },
        "id": "k3SrMLn_jntI",
        "outputId": "a06a45dd-09b6-4ca5-b195-e4ccd79272c8"
      },
      "outputs": [
        {
          "data": {
            "text/plain": [
              "<matplotlib.image.AxesImage at 0x7ff614269b20>"
            ]
          },
          "execution_count": 17,
          "metadata": {},
          "output_type": "execute_result"
        },
        {
          "data": {
            "image/png": "[encoded data removed]",
            "text/plain": [
              "<Figure size 432x288 with 1 Axes>"
            ]
          },
          "metadata": {
            "needs_background": "light"
          },
          "output_type": "display_data"
        }
      ],
      "source": [
        "a = imread('gan_images/127.png')\n",
        "plt.imshow(a)"
      ]
    },
    {
      "cell_type": "code",
      "execution_count": 18,
      "metadata": {
        "colab": {
          "base_uri": "https://localhost:8080/",
          "height": 286
        },
        "id": "RUOAVE7UlemA",
        "outputId": "bb670b3f-d4eb-4f8c-e06f-13998c17c0f5"
      },
      "outputs": [
        {
          "data": {
            "text/plain": [
              "<matplotlib.image.AxesImage at 0x7ff61424d5e0>"
            ]
          },
          "execution_count": 18,
          "metadata": {},
          "output_type": "execute_result"
        },
        {
          "data": {
            "image/png": "[encoded data removed]",
            "text/plain": [
              "<Figure size 432x288 with 1 Axes>"
            ]
          },
          "metadata": {
            "needs_background": "light"
          },
          "output_type": "display_data"
        }
      ],
      "source": [
        "a = imread('gan_images/200.png')\n",
        "plt.imshow(a)"
      ]
    }
  ],
  "metadata": {
    "accelerator": "GPU",
    "colab": {
      "provenance": []
    },
    "gpuClass": "standard",
    "kernelspec": {
      "display_name": "Python 3",
      "name": "python3"
    },
    "language_info": {
      "name": "python"
    },
    "widgets": {
      "application/vnd.jupyter.widget-state+json": {
        "03550da3fcef4781bd6166a06a52f4ef": {
          "model_module": "@jupyter-widgets/controls",
          "model_module_version": "1.5.0",
          "model_name": "DescriptionStyleModel",
          "state": {
            "_model_module": "@jupyter-widgets/controls",
            "_model_module_version": "1.5.0",
            "_model_name": "DescriptionStyleModel",
            "_view_count": null,
            "_view_module": "@jupyter-widgets/base",
            "_view_module_version": "1.2.0",
            "_view_name": "StyleView",
            "description_width": ""
          }
        },
        "0e9b47db295f449288adab77b11fe135": {
          "model_module": "@jupyter-widgets/controls",
          "model_module_version": "1.5.0",
          "model_name": "FloatProgressModel",
          "state": {
            "_dom_classes": [],
            "_model_module": "@jupyter-widgets/controls",
            "_model_module_version": "1.5.0",
            "_model_name": "FloatProgressModel",
            "_view_count": null,
            "_view_module": "@jupyter-widgets/controls",
            "_view_module_version": "1.5.0",
            "_view_name": "ProgressView",
            "bar_style": "success",
            "description": "",
            "description_tooltip": null,
            "layout": "IPY_MODEL_160072b8ad9644d28da4ea7010381da4",
            "max": 4542,
            "min": 0,
            "orientation": "horizontal",
            "style": "IPY_MODEL_e216b50ff38640bfaafe58caab8b3243",
            "value": 4542
          }
        },
        "1249401aea0447a58b8cc3ed10ac479b": {
          "model_module": "@jupyter-widgets/controls",
          "model_module_version": "1.5.0",
          "model_name": "HBoxModel",
          "state": {
            "_dom_classes": [],
            "_model_module": "@jupyter-widgets/controls",
            "_model_module_version": "1.5.0",
            "_model_name": "HBoxModel",
            "_view_count": null,
            "_view_module": "@jupyter-widgets/controls",
            "_view_module_version": "1.5.0",
            "_view_name": "HBoxView",
            "box_style": "",
            "children": [
              "IPY_MODEL_3e185461b5524da3b42513bf81135c70",
              "IPY_MODEL_c4c3d1d5015e476a8cfa754e1a6c724e",
              "IPY_MODEL_5f475fdf0e51457ca97812da0ad5a947"
            ],
            "layout": "IPY_MODEL_dc6bbfd01cd949cfa0840de7772e7859"
          }
        },
        "15a94550723142f1a133535b280ef710": {
          "model_module": "@jupyter-widgets/base",
          "model_module_version": "1.2.0",
          "model_name": "LayoutModel",
          "state": {
            "_model_module": "@jupyter-widgets/base",
            "_model_module_version": "1.2.0",
            "_model_name": "LayoutModel",
            "_view_count": null,
            "_view_module": "@jupyter-widgets/base",
            "_view_module_version": "1.2.0",
            "_view_name": "LayoutView",
            "align_content": null,
            "align_items": null,
            "align_self": null,
            "border": null,
            "bottom": null,
            "display": null,
            "flex": null,
            "flex_flow": null,
            "grid_area": null,
            "grid_auto_columns": null,
            "grid_auto_flow": null,
            "grid_auto_rows": null,
            "grid_column": null,
            "grid_gap": null,
            "grid_row": null,
            "grid_template_areas": null,
            "grid_template_columns": null,
            "grid_template_rows": null,
            "height": null,
            "justify_content": null,
            "justify_items": null,
            "left": null,
            "margin": null,
            "max_height": null,
            "max_width": null,
            "min_height": null,
            "min_width": null,
            "object_fit": null,
            "object_position": null,
            "order": null,
            "overflow": null,
            "overflow_x": null,
            "overflow_y": null,
            "padding": null,
            "right": null,
            "top": null,
            "visibility": null,
            "width": null
          }
        },
        "160072b8ad9644d28da4ea7010381da4": {
          "model_module": "@jupyter-widgets/base",
          "model_module_version": "1.2.0",
          "model_name": "LayoutModel",
          "state": {
            "_model_module": "@jupyter-widgets/base",
            "_model_module_version": "1.2.0",
            "_model_name": "LayoutModel",
            "_view_count": null,
            "_view_module": "@jupyter-widgets/base",
            "_view_module_version": "1.2.0",
            "_view_name": "LayoutView",
            "align_content": null,
            "align_items": null,
            "align_self": null,
            "border": null,
            "bottom": null,
            "display": null,
            "flex": null,
            "flex_flow": null,
            "grid_area": null,
            "grid_auto_columns": null,
            "grid_auto_flow": null,
            "grid_auto_rows": null,
            "grid_column": null,
            "grid_gap": null,
            "grid_row": null,
            "grid_template_areas": null,
            "grid_template_columns": null,
            "grid_template_rows": null,
            "height": null,
            "justify_content": null,
            "justify_items": null,
            "left": null,
            "margin": null,
            "max_height": null,
            "max_width": null,
            "min_height": null,
            "min_width": null,
            "object_fit": null,
            "object_position": null,
            "order": null,
            "overflow": null,
            "overflow_x": null,
            "overflow_y": null,
            "padding": null,
            "right": null,
            "top": null,
            "visibility": null,
            "width": null
          }
        },
        "2163bb77ac45493d9815c4abeae48bec": {
          "model_module": "@jupyter-widgets/controls",
          "model_module_version": "1.5.0",
          "model_name": "DescriptionStyleModel",
          "state": {
            "_model_module": "@jupyter-widgets/controls",
            "_model_module_version": "1.5.0",
            "_model_name": "DescriptionStyleModel",
            "_view_count": null,
            "_view_module": "@jupyter-widgets/base",
            "_view_module_version": "1.2.0",
            "_view_name": "StyleView",
            "description_width": ""
          }
        },
        "23538b17611d4b9091a09a2a83bf145e": {
          "model_module": "@jupyter-widgets/base",
          "model_module_version": "1.2.0",
          "model_name": "LayoutModel",
          "state": {
            "_model_module": "@jupyter-widgets/base",
            "_model_module_version": "1.2.0",
            "_model_name": "LayoutModel",
            "_view_count": null,
            "_view_module": "@jupyter-widgets/base",
            "_view_module_version": "1.2.0",
            "_view_name": "LayoutView",
            "align_content": null,
            "align_items": null,
            "align_self": null,
            "border": null,
            "bottom": null,
            "display": null,
            "flex": null,
            "flex_flow": null,
            "grid_area": null,
            "grid_auto_columns": null,
            "grid_auto_flow": null,
            "grid_auto_rows": null,
            "grid_column": null,
            "grid_gap": null,
            "grid_row": null,
            "grid_template_areas": null,
            "grid_template_columns": null,
            "grid_template_rows": null,
            "height": null,
            "justify_content": null,
            "justify_items": null,
            "left": null,
            "margin": null,
            "max_height": null,
            "max_width": null,
            "min_height": null,
            "min_width": null,
            "object_fit": null,
            "object_position": null,
            "order": null,
            "overflow": null,
            "overflow_x": null,
            "overflow_y": null,
            "padding": null,
            "right": null,
            "top": null,
            "visibility": null,
            "width": null
          }
        },
        "2dc72d929f9c41ca9c11acb34bff3b9d": {
          "model_module": "@jupyter-widgets/base",
          "model_module_version": "1.2.0",
          "model_name": "LayoutModel",
          "state": {
            "_model_module": "@jupyter-widgets/base",
            "_model_module_version": "1.2.0",
            "_model_name": "LayoutModel",
            "_view_count": null,
            "_view_module": "@jupyter-widgets/base",
            "_view_module_version": "1.2.0",
            "_view_name": "LayoutView",
            "align_content": null,
            "align_items": null,
            "align_self": null,
            "border": null,
            "bottom": null,
            "display": null,
            "flex": null,
            "flex_flow": null,
            "grid_area": null,
            "grid_auto_columns": null,
            "grid_auto_flow": null,
            "grid_auto_rows": null,
            "grid_column": null,
            "grid_gap": null,
            "grid_row": null,
            "grid_template_areas": null,
            "grid_template_columns": null,
            "grid_template_rows": null,
            "height": null,
            "justify_content": null,
            "justify_items": null,
            "left": null,
            "margin": null,
            "max_height": null,
            "max_width": null,
            "min_height": null,
            "min_width": null,
            "object_fit": null,
            "object_position": null,
            "order": null,
            "overflow": null,
            "overflow_x": null,
            "overflow_y": null,
            "padding": null,
            "right": null,
            "top": null,
            "visibility": null,
            "width": null
          }
        },
        "3029e9b6ae0f48cc97abaf71c0c7bbd9": {
          "model_module": "@jupyter-widgets/controls",
          "model_module_version": "1.5.0",
          "model_name": "HBoxModel",
          "state": {
            "_dom_classes": [],
            "_model_module": "@jupyter-widgets/controls",
            "_model_module_version": "1.5.0",
            "_model_name": "HBoxModel",
            "_view_count": null,
            "_view_module": "@jupyter-widgets/controls",
            "_view_module_version": "1.5.0",
            "_view_name": "HBoxView",
            "box_style": "",
            "children": [
              "IPY_MODEL_f486067852d54942919c506807fe2020",
              "IPY_MODEL_0e9b47db295f449288adab77b11fe135",
              "IPY_MODEL_365d7ebb83084eb5a1956a7c07c139ce"
            ],
            "layout": "IPY_MODEL_7a8e792596af43799f38756aa024109d"
          }
        },
        "3150c4cb37234c5db3a043a960a5784e": {
          "model_module": "@jupyter-widgets/base",
          "model_module_version": "1.2.0",
          "model_name": "LayoutModel",
          "state": {
            "_model_module": "@jupyter-widgets/base",
            "_model_module_version": "1.2.0",
            "_model_name": "LayoutModel",
            "_view_count": null,
            "_view_module": "@jupyter-widgets/base",
            "_view_module_version": "1.2.0",
            "_view_name": "LayoutView",
            "align_content": null,
            "align_items": null,
            "align_self": null,
            "border": null,
            "bottom": null,
            "display": null,
            "flex": null,
            "flex_flow": null,
            "grid_area": null,
            "grid_auto_columns": null,
            "grid_auto_flow": null,
            "grid_auto_rows": null,
            "grid_column": null,
            "grid_gap": null,
            "grid_row": null,
            "grid_template_areas": null,
            "grid_template_columns": null,
            "grid_template_rows": null,
            "height": null,
            "justify_content": null,
            "justify_items": null,
            "left": null,
            "margin": null,
            "max_height": null,
            "max_width": null,
            "min_height": null,
            "min_width": null,
            "object_fit": null,
            "object_position": null,
            "order": null,
            "overflow": null,
            "overflow_x": null,
            "overflow_y": null,
            "padding": null,
            "right": null,
            "top": null,
            "visibility": null,
            "width": null
          }
        },
        "365d7ebb83084eb5a1956a7c07c139ce": {
          "model_module": "@jupyter-widgets/controls",
          "model_module_version": "1.5.0",
          "model_name": "HTMLModel",
          "state": {
            "_dom_classes": [],
            "_model_module": "@jupyter-widgets/controls",
            "_model_module_version": "1.5.0",
            "_model_name": "HTMLModel",
            "_view_count": null,
            "_view_module": "@jupyter-widgets/controls",
            "_view_module_version": "1.5.0",
            "_view_name": "HTMLView",
            "description": "",
            "description_tooltip": null,
            "layout": "IPY_MODEL_3150c4cb37234c5db3a043a960a5784e",
            "placeholder": "​",
            "style": "IPY_MODEL_62f290601c754499b169b7767cb7ae4f",
            "value": " 4542/4542 [00:00&lt;00:00, 321679.93it/s]"
          }
        },
        "3e185461b5524da3b42513bf81135c70": {
          "model_module": "@jupyter-widgets/controls",
          "model_module_version": "1.5.0",
          "model_name": "HTMLModel",
          "state": {
            "_dom_classes": [],
            "_model_module": "@jupyter-widgets/controls",
            "_model_module_version": "1.5.0",
            "_model_name": "HTMLModel",
            "_view_count": null,
            "_view_module": "@jupyter-widgets/controls",
            "_view_module_version": "1.5.0",
            "_view_name": "HTMLView",
            "description": "",
            "description_tooltip": null,
            "layout": "IPY_MODEL_4d2af1b4a03c4a21baad6d8aa7d96935",
            "placeholder": "​",
            "style": "IPY_MODEL_4569eef4e4704ecaa9037e8e621a7af6",
            "value": "100%"
          }
        },
        "4569eef4e4704ecaa9037e8e621a7af6": {
          "model_module": "@jupyter-widgets/controls",
          "model_module_version": "1.5.0",
          "model_name": "DescriptionStyleModel",
          "state": {
            "_model_module": "@jupyter-widgets/controls",
            "_model_module_version": "1.5.0",
            "_model_name": "DescriptionStyleModel",
            "_view_count": null,
            "_view_module": "@jupyter-widgets/base",
            "_view_module_version": "1.2.0",
            "_view_name": "StyleView",
            "description_width": ""
          }
        },
        "4d2af1b4a03c4a21baad6d8aa7d96935": {
          "model_module": "@jupyter-widgets/base",
          "model_module_version": "1.2.0",
          "model_name": "LayoutModel",
          "state": {
            "_model_module": "@jupyter-widgets/base",
            "_model_module_version": "1.2.0",
            "_model_name": "LayoutModel",
            "_view_count": null,
            "_view_module": "@jupyter-widgets/base",
            "_view_module_version": "1.2.0",
            "_view_name": "LayoutView",
            "align_content": null,
            "align_items": null,
            "align_self": null,
            "border": null,
            "bottom": null,
            "display": null,
            "flex": null,
            "flex_flow": null,
            "grid_area": null,
            "grid_auto_columns": null,
            "grid_auto_flow": null,
            "grid_auto_rows": null,
            "grid_column": null,
            "grid_gap": null,
            "grid_row": null,
            "grid_template_areas": null,
            "grid_template_columns": null,
            "grid_template_rows": null,
            "height": null,
            "justify_content": null,
            "justify_items": null,
            "left": null,
            "margin": null,
            "max_height": null,
            "max_width": null,
            "min_height": null,
            "min_width": null,
            "object_fit": null,
            "object_position": null,
            "order": null,
            "overflow": null,
            "overflow_x": null,
            "overflow_y": null,
            "padding": null,
            "right": null,
            "top": null,
            "visibility": null,
            "width": null
          }
        },
        "4ec1c1756fe148719df81c40d8c0f8f0": {
          "model_module": "@jupyter-widgets/base",
          "model_module_version": "1.2.0",
          "model_name": "LayoutModel",
          "state": {
            "_model_module": "@jupyter-widgets/base",
            "_model_module_version": "1.2.0",
            "_model_name": "LayoutModel",
            "_view_count": null,
            "_view_module": "@jupyter-widgets/base",
            "_view_module_version": "1.2.0",
            "_view_name": "LayoutView",
            "align_content": null,
            "align_items": null,
            "align_self": null,
            "border": null,
            "bottom": null,
            "display": null,
            "flex": null,
            "flex_flow": null,
            "grid_area": null,
            "grid_auto_columns": null,
            "grid_auto_flow": null,
            "grid_auto_rows": null,
            "grid_column": null,
            "grid_gap": null,
            "grid_row": null,
            "grid_template_areas": null,
            "grid_template_columns": null,
            "grid_template_rows": null,
            "height": null,
            "justify_content": null,
            "justify_items": null,
            "left": null,
            "margin": null,
            "max_height": null,
            "max_width": null,
            "min_height": null,
            "min_width": null,
            "object_fit": null,
            "object_position": null,
            "order": null,
            "overflow": null,
            "overflow_x": null,
            "overflow_y": null,
            "padding": null,
            "right": null,
            "top": null,
            "visibility": null,
            "width": null
          }
        },
        "54ce8888bfe84a3089da016bd5b649ed": {
          "model_module": "@jupyter-widgets/controls",
          "model_module_version": "1.5.0",
          "model_name": "ProgressStyleModel",
          "state": {
            "_model_module": "@jupyter-widgets/controls",
            "_model_module_version": "1.5.0",
            "_model_name": "ProgressStyleModel",
            "_view_count": null,
            "_view_module": "@jupyter-widgets/base",
            "_view_module_version": "1.2.0",
            "_view_name": "StyleView",
            "bar_color": null,
            "description_width": ""
          }
        },
        "555a97c7722c4d10be5597b1823fe863": {
          "model_module": "@jupyter-widgets/controls",
          "model_module_version": "1.5.0",
          "model_name": "FloatProgressModel",
          "state": {
            "_dom_classes": [],
            "_model_module": "@jupyter-widgets/controls",
            "_model_module_version": "1.5.0",
            "_model_name": "FloatProgressModel",
            "_view_count": null,
            "_view_module": "@jupyter-widgets/controls",
            "_view_module_version": "1.5.0",
            "_view_name": "ProgressView",
            "bar_style": "success",
            "description": "",
            "description_tooltip": null,
            "layout": "IPY_MODEL_5920d5169fc144cab7337a7c8f3428ec",
            "max": 9912422,
            "min": 0,
            "orientation": "horizontal",
            "style": "IPY_MODEL_8e6c65e2c54d4e56a1c23e09544d3421",
            "value": 9912422
          }
        },
        "5920d5169fc144cab7337a7c8f3428ec": {
          "model_module": "@jupyter-widgets/base",
          "model_module_version": "1.2.0",
          "model_name": "LayoutModel",
          "state": {
            "_model_module": "@jupyter-widgets/base",
            "_model_module_version": "1.2.0",
            "_model_name": "LayoutModel",
            "_view_count": null,
            "_view_module": "@jupyter-widgets/base",
            "_view_module_version": "1.2.0",
            "_view_name": "LayoutView",
            "align_content": null,
            "align_items": null,
            "align_self": null,
            "border": null,
            "bottom": null,
            "display": null,
            "flex": null,
            "flex_flow": null,
            "grid_area": null,
            "grid_auto_columns": null,
            "grid_auto_flow": null,
            "grid_auto_rows": null,
            "grid_column": null,
            "grid_gap": null,
            "grid_row": null,
            "grid_template_areas": null,
            "grid_template_columns": null,
            "grid_template_rows": null,
            "height": null,
            "justify_content": null,
            "justify_items": null,
            "left": null,
            "margin": null,
            "max_height": null,
            "max_width": null,
            "min_height": null,
            "min_width": null,
            "object_fit": null,
            "object_position": null,
            "order": null,
            "overflow": null,
            "overflow_x": null,
            "overflow_y": null,
            "padding": null,
            "right": null,
            "top": null,
            "visibility": null,
            "width": null
          }
        },
        "5a0c8881bc164210b19213890abc4129": {
          "model_module": "@jupyter-widgets/base",
          "model_module_version": "1.2.0",
          "model_name": "LayoutModel",
          "state": {
            "_model_module": "@jupyter-widgets/base",
            "_model_module_version": "1.2.0",
            "_model_name": "LayoutModel",
            "_view_count": null,
            "_view_module": "@jupyter-widgets/base",
            "_view_module_version": "1.2.0",
            "_view_name": "LayoutView",
            "align_content": null,
            "align_items": null,
            "align_self": null,
            "border": null,
            "bottom": null,
            "display": null,
            "flex": null,
            "flex_flow": null,
            "grid_area": null,
            "grid_auto_columns": null,
            "grid_auto_flow": null,
            "grid_auto_rows": null,
            "grid_column": null,
            "grid_gap": null,
            "grid_row": null,
            "grid_template_areas": null,
            "grid_template_columns": null,
            "grid_template_rows": null,
            "height": null,
            "justify_content": null,
            "justify_items": null,
            "left": null,
            "margin": null,
            "max_height": null,
            "max_width": null,
            "min_height": null,
            "min_width": null,
            "object_fit": null,
            "object_position": null,
            "order": null,
            "overflow": null,
            "overflow_x": null,
            "overflow_y": null,
            "padding": null,
            "right": null,
            "top": null,
            "visibility": null,
            "width": null
          }
        },
        "5ee01ca50e854eb791603a7a5dbcadff": {
          "model_module": "@jupyter-widgets/controls",
          "model_module_version": "1.5.0",
          "model_name": "HBoxModel",
          "state": {
            "_dom_classes": [],
            "_model_module": "@jupyter-widgets/controls",
            "_model_module_version": "1.5.0",
            "_model_name": "HBoxModel",
            "_view_count": null,
            "_view_module": "@jupyter-widgets/controls",
            "_view_module_version": "1.5.0",
            "_view_name": "HBoxView",
            "box_style": "",
            "children": [
              "IPY_MODEL_8d04584e588543c2a86da783d3ac7272",
              "IPY_MODEL_555a97c7722c4d10be5597b1823fe863",
              "IPY_MODEL_e85ed88e975a4ccb9e6d04fd07428e52"
            ],
            "layout": "IPY_MODEL_2dc72d929f9c41ca9c11acb34bff3b9d"
          }
        },
        "5f475fdf0e51457ca97812da0ad5a947": {
          "model_module": "@jupyter-widgets/controls",
          "model_module_version": "1.5.0",
          "model_name": "HTMLModel",
          "state": {
            "_dom_classes": [],
            "_model_module": "@jupyter-widgets/controls",
            "_model_module_version": "1.5.0",
            "_model_name": "HTMLModel",
            "_view_count": null,
            "_view_module": "@jupyter-widgets/controls",
            "_view_module_version": "1.5.0",
            "_view_name": "HTMLView",
            "description": "",
            "description_tooltip": null,
            "layout": "IPY_MODEL_5a0c8881bc164210b19213890abc4129",
            "placeholder": "​",
            "style": "IPY_MODEL_96dcc78131e845eaad0bac3291aad96c",
            "value": " 1648877/1648877 [00:00&lt;00:00, 1263254.70it/s]"
          }
        },
        "60a583da6bba4a7baf7e4c3379dd0a73": {
          "model_module": "@jupyter-widgets/base",
          "model_module_version": "1.2.0",
          "model_name": "LayoutModel",
          "state": {
            "_model_module": "@jupyter-widgets/base",
            "_model_module_version": "1.2.0",
            "_model_name": "LayoutModel",
            "_view_count": null,
            "_view_module": "@jupyter-widgets/base",
            "_view_module_version": "1.2.0",
            "_view_name": "LayoutView",
            "align_content": null,
            "align_items": null,
            "align_self": null,
            "border": null,
            "bottom": null,
            "display": null,
            "flex": null,
            "flex_flow": null,
            "grid_area": null,
            "grid_auto_columns": null,
            "grid_auto_flow": null,
            "grid_auto_rows": null,
            "grid_column": null,
            "grid_gap": null,
            "grid_row": null,
            "grid_template_areas": null,
            "grid_template_columns": null,
            "grid_template_rows": null,
            "height": null,
            "justify_content": null,
            "justify_items": null,
            "left": null,
            "margin": null,
            "max_height": null,
            "max_width": null,
            "min_height": null,
            "min_width": null,
            "object_fit": null,
            "object_position": null,
            "order": null,
            "overflow": null,
            "overflow_x": null,
            "overflow_y": null,
            "padding": null,
            "right": null,
            "top": null,
            "visibility": null,
            "width": null
          }
        },
        "62f290601c754499b169b7767cb7ae4f": {
          "model_module": "@jupyter-widgets/controls",
          "model_module_version": "1.5.0",
          "model_name": "DescriptionStyleModel",
          "state": {
            "_model_module": "@jupyter-widgets/controls",
            "_model_module_version": "1.5.0",
            "_model_name": "DescriptionStyleModel",
            "_view_count": null,
            "_view_module": "@jupyter-widgets/base",
            "_view_module_version": "1.2.0",
            "_view_name": "StyleView",
            "description_width": ""
          }
        },
        "7a8e792596af43799f38756aa024109d": {
          "model_module": "@jupyter-widgets/base",
          "model_module_version": "1.2.0",
          "model_name": "LayoutModel",
          "state": {
            "_model_module": "@jupyter-widgets/base",
            "_model_module_version": "1.2.0",
            "_model_name": "LayoutModel",
            "_view_count": null,
            "_view_module": "@jupyter-widgets/base",
            "_view_module_version": "1.2.0",
            "_view_name": "LayoutView",
            "align_content": null,
            "align_items": null,
            "align_self": null,
            "border": null,
            "bottom": null,
            "display": null,
            "flex": null,
            "flex_flow": null,
            "grid_area": null,
            "grid_auto_columns": null,
            "grid_auto_flow": null,
            "grid_auto_rows": null,
            "grid_column": null,
            "grid_gap": null,
            "grid_row": null,
            "grid_template_areas": null,
            "grid_template_columns": null,
            "grid_template_rows": null,
            "height": null,
            "justify_content": null,
            "justify_items": null,
            "left": null,
            "margin": null,
            "max_height": null,
            "max_width": null,
            "min_height": null,
            "min_width": null,
            "object_fit": null,
            "object_position": null,
            "order": null,
            "overflow": null,
            "overflow_x": null,
            "overflow_y": null,
            "padding": null,
            "right": null,
            "top": null,
            "visibility": null,
            "width": null
          }
        },
        "7ea8635841a14289bdcaedfa787be2d6": {
          "model_module": "@jupyter-widgets/controls",
          "model_module_version": "1.5.0",
          "model_name": "FloatProgressModel",
          "state": {
            "_dom_classes": [],
            "_model_module": "@jupyter-widgets/controls",
            "_model_module_version": "1.5.0",
            "_model_name": "FloatProgressModel",
            "_view_count": null,
            "_view_module": "@jupyter-widgets/controls",
            "_view_module_version": "1.5.0",
            "_view_name": "ProgressView",
            "bar_style": "success",
            "description": "",
            "description_tooltip": null,
            "layout": "IPY_MODEL_a555496aab474b729eff724cd3cf18ab",
            "max": 28881,
            "min": 0,
            "orientation": "horizontal",
            "style": "IPY_MODEL_54ce8888bfe84a3089da016bd5b649ed",
            "value": 28881
          }
        },
        "8d04584e588543c2a86da783d3ac7272": {
          "model_module": "@jupyter-widgets/controls",
          "model_module_version": "1.5.0",
          "model_name": "HTMLModel",
          "state": {
            "_dom_classes": [],
            "_model_module": "@jupyter-widgets/controls",
            "_model_module_version": "1.5.0",
            "_model_name": "HTMLModel",
            "_view_count": null,
            "_view_module": "@jupyter-widgets/controls",
            "_view_module_version": "1.5.0",
            "_view_name": "HTMLView",
            "description": "",
            "description_tooltip": null,
            "layout": "IPY_MODEL_60a583da6bba4a7baf7e4c3379dd0a73",
            "placeholder": "​",
            "style": "IPY_MODEL_b76fd0afe8f6435aad398d21687b3c87",
            "value": "100%"
          }
        },
        "8e6c65e2c54d4e56a1c23e09544d3421": {
          "model_module": "@jupyter-widgets/controls",
          "model_module_version": "1.5.0",
          "model_name": "ProgressStyleModel",
          "state": {
            "_model_module": "@jupyter-widgets/controls",
            "_model_module_version": "1.5.0",
            "_model_name": "ProgressStyleModel",
            "_view_count": null,
            "_view_module": "@jupyter-widgets/base",
            "_view_module_version": "1.2.0",
            "_view_name": "StyleView",
            "bar_color": null,
            "description_width": ""
          }
        },
        "96dcc78131e845eaad0bac3291aad96c": {
          "model_module": "@jupyter-widgets/controls",
          "model_module_version": "1.5.0",
          "model_name": "DescriptionStyleModel",
          "state": {
            "_model_module": "@jupyter-widgets/controls",
            "_model_module_version": "1.5.0",
            "_model_name": "DescriptionStyleModel",
            "_view_count": null,
            "_view_module": "@jupyter-widgets/base",
            "_view_module_version": "1.2.0",
            "_view_name": "StyleView",
            "description_width": ""
          }
        },
        "98d979f168594488b77a940c26b14ee5": {
          "model_module": "@jupyter-widgets/base",
          "model_module_version": "1.2.0",
          "model_name": "LayoutModel",
          "state": {
            "_model_module": "@jupyter-widgets/base",
            "_model_module_version": "1.2.0",
            "_model_name": "LayoutModel",
            "_view_count": null,
            "_view_module": "@jupyter-widgets/base",
            "_view_module_version": "1.2.0",
            "_view_name": "LayoutView",
            "align_content": null,
            "align_items": null,
            "align_self": null,
            "border": null,
            "bottom": null,
            "display": null,
            "flex": null,
            "flex_flow": null,
            "grid_area": null,
            "grid_auto_columns": null,
            "grid_auto_flow": null,
            "grid_auto_rows": null,
            "grid_column": null,
            "grid_gap": null,
            "grid_row": null,
            "grid_template_areas": null,
            "grid_template_columns": null,
            "grid_template_rows": null,
            "height": null,
            "justify_content": null,
            "justify_items": null,
            "left": null,
            "margin": null,
            "max_height": null,
            "max_width": null,
            "min_height": null,
            "min_width": null,
            "object_fit": null,
            "object_position": null,
            "order": null,
            "overflow": null,
            "overflow_x": null,
            "overflow_y": null,
            "padding": null,
            "right": null,
            "top": null,
            "visibility": null,
            "width": null
          }
        },
        "a555496aab474b729eff724cd3cf18ab": {
          "model_module": "@jupyter-widgets/base",
          "model_module_version": "1.2.0",
          "model_name": "LayoutModel",
          "state": {
            "_model_module": "@jupyter-widgets/base",
            "_model_module_version": "1.2.0",
            "_model_name": "LayoutModel",
            "_view_count": null,
            "_view_module": "@jupyter-widgets/base",
            "_view_module_version": "1.2.0",
            "_view_name": "LayoutView",
            "align_content": null,
            "align_items": null,
            "align_self": null,
            "border": null,
            "bottom": null,
            "display": null,
            "flex": null,
            "flex_flow": null,
            "grid_area": null,
            "grid_auto_columns": null,
            "grid_auto_flow": null,
            "grid_auto_rows": null,
            "grid_column": null,
            "grid_gap": null,
            "grid_row": null,
            "grid_template_areas": null,
            "grid_template_columns": null,
            "grid_template_rows": null,
            "height": null,
            "justify_content": null,
            "justify_items": null,
            "left": null,
            "margin": null,
            "max_height": null,
            "max_width": null,
            "min_height": null,
            "min_width": null,
            "object_fit": null,
            "object_position": null,
            "order": null,
            "overflow": null,
            "overflow_x": null,
            "overflow_y": null,
            "padding": null,
            "right": null,
            "top": null,
            "visibility": null,
            "width": null
          }
        },
        "a8b2901bd0284c94922ae49900b87011": {
          "model_module": "@jupyter-widgets/controls",
          "model_module_version": "1.5.0",
          "model_name": "HTMLModel",
          "state": {
            "_dom_classes": [],
            "_model_module": "@jupyter-widgets/controls",
            "_model_module_version": "1.5.0",
            "_model_name": "HTMLModel",
            "_view_count": null,
            "_view_module": "@jupyter-widgets/controls",
            "_view_module_version": "1.5.0",
            "_view_name": "HTMLView",
            "description": "",
            "description_tooltip": null,
            "layout": "IPY_MODEL_23538b17611d4b9091a09a2a83bf145e",
            "placeholder": "​",
            "style": "IPY_MODEL_2163bb77ac45493d9815c4abeae48bec",
            "value": " 28881/28881 [00:00&lt;00:00, 1435682.30it/s]"
          }
        },
        "add5aa75fc804cbb97b17450b6b39da2": {
          "model_module": "@jupyter-widgets/controls",
          "model_module_version": "1.5.0",
          "model_name": "DescriptionStyleModel",
          "state": {
            "_model_module": "@jupyter-widgets/controls",
            "_model_module_version": "1.5.0",
            "_model_name": "DescriptionStyleModel",
            "_view_count": null,
            "_view_module": "@jupyter-widgets/base",
            "_view_module_version": "1.2.0",
            "_view_name": "StyleView",
            "description_width": ""
          }
        },
        "b677faf7be8c4838a02a0df4dd3992f8": {
          "model_module": "@jupyter-widgets/controls",
          "model_module_version": "1.5.0",
          "model_name": "HBoxModel",
          "state": {
            "_dom_classes": [],
            "_model_module": "@jupyter-widgets/controls",
            "_model_module_version": "1.5.0",
            "_model_name": "HBoxModel",
            "_view_count": null,
            "_view_module": "@jupyter-widgets/controls",
            "_view_module_version": "1.5.0",
            "_view_name": "HBoxView",
            "box_style": "",
            "children": [
              "IPY_MODEL_d73f4eda2a7b4ebabe431475e3c9a546",
              "IPY_MODEL_7ea8635841a14289bdcaedfa787be2d6",
              "IPY_MODEL_a8b2901bd0284c94922ae49900b87011"
            ],
            "layout": "IPY_MODEL_98d979f168594488b77a940c26b14ee5"
          }
        },
        "b76fd0afe8f6435aad398d21687b3c87": {
          "model_module": "@jupyter-widgets/controls",
          "model_module_version": "1.5.0",
          "model_name": "DescriptionStyleModel",
          "state": {
            "_model_module": "@jupyter-widgets/controls",
            "_model_module_version": "1.5.0",
            "_model_name": "DescriptionStyleModel",
            "_view_count": null,
            "_view_module": "@jupyter-widgets/base",
            "_view_module_version": "1.2.0",
            "_view_name": "StyleView",
            "description_width": ""
          }
        },
        "c2225ce8b19c4e19a5b2176b9fe26f3b": {
          "model_module": "@jupyter-widgets/controls",
          "model_module_version": "1.5.0",
          "model_name": "DescriptionStyleModel",
          "state": {
            "_model_module": "@jupyter-widgets/controls",
            "_model_module_version": "1.5.0",
            "_model_name": "DescriptionStyleModel",
            "_view_count": null,
            "_view_module": "@jupyter-widgets/base",
            "_view_module_version": "1.2.0",
            "_view_name": "StyleView",
            "description_width": ""
          }
        },
        "c4c3d1d5015e476a8cfa754e1a6c724e": {
          "model_module": "@jupyter-widgets/controls",
          "model_module_version": "1.5.0",
          "model_name": "FloatProgressModel",
          "state": {
            "_dom_classes": [],
            "_model_module": "@jupyter-widgets/controls",
            "_model_module_version": "1.5.0",
            "_model_name": "FloatProgressModel",
            "_view_count": null,
            "_view_module": "@jupyter-widgets/controls",
            "_view_module_version": "1.5.0",
            "_view_name": "ProgressView",
            "bar_style": "success",
            "description": "",
            "description_tooltip": null,
            "layout": "IPY_MODEL_fdb25db685af45b9b2b4542cf37a9d0f",
            "max": 1648877,
            "min": 0,
            "orientation": "horizontal",
            "style": "IPY_MODEL_ee93e0843ef74259b698d246daeda6af",
            "value": 1648877
          }
        },
        "d73f4eda2a7b4ebabe431475e3c9a546": {
          "model_module": "@jupyter-widgets/controls",
          "model_module_version": "1.5.0",
          "model_name": "HTMLModel",
          "state": {
            "_dom_classes": [],
            "_model_module": "@jupyter-widgets/controls",
            "_model_module_version": "1.5.0",
            "_model_name": "HTMLModel",
            "_view_count": null,
            "_view_module": "@jupyter-widgets/controls",
            "_view_module_version": "1.5.0",
            "_view_name": "HTMLView",
            "description": "",
            "description_tooltip": null,
            "layout": "IPY_MODEL_4ec1c1756fe148719df81c40d8c0f8f0",
            "placeholder": "​",
            "style": "IPY_MODEL_add5aa75fc804cbb97b17450b6b39da2",
            "value": "100%"
          }
        },
        "dc6bbfd01cd949cfa0840de7772e7859": {
          "model_module": "@jupyter-widgets/base",
          "model_module_version": "1.2.0",
          "model_name": "LayoutModel",
          "state": {
            "_model_module": "@jupyter-widgets/base",
            "_model_module_version": "1.2.0",
            "_model_name": "LayoutModel",
            "_view_count": null,
            "_view_module": "@jupyter-widgets/base",
            "_view_module_version": "1.2.0",
            "_view_name": "LayoutView",
            "align_content": null,
            "align_items": null,
            "align_self": null,
            "border": null,
            "bottom": null,
            "display": null,
            "flex": null,
            "flex_flow": null,
            "grid_area": null,
            "grid_auto_columns": null,
            "grid_auto_flow": null,
            "grid_auto_rows": null,
            "grid_column": null,
            "grid_gap": null,
            "grid_row": null,
            "grid_template_areas": null,
            "grid_template_columns": null,
            "grid_template_rows": null,
            "height": null,
            "justify_content": null,
            "justify_items": null,
            "left": null,
            "margin": null,
            "max_height": null,
            "max_width": null,
            "min_height": null,
            "min_width": null,
            "object_fit": null,
            "object_position": null,
            "order": null,
            "overflow": null,
            "overflow_x": null,
            "overflow_y": null,
            "padding": null,
            "right": null,
            "top": null,
            "visibility": null,
            "width": null
          }
        },
        "e216b50ff38640bfaafe58caab8b3243": {
          "model_module": "@jupyter-widgets/controls",
          "model_module_version": "1.5.0",
          "model_name": "ProgressStyleModel",
          "state": {
            "_model_module": "@jupyter-widgets/controls",
            "_model_module_version": "1.5.0",
            "_model_name": "ProgressStyleModel",
            "_view_count": null,
            "_view_module": "@jupyter-widgets/base",
            "_view_module_version": "1.2.0",
            "_view_name": "StyleView",
            "bar_color": null,
            "description_width": ""
          }
        },
        "e85ed88e975a4ccb9e6d04fd07428e52": {
          "model_module": "@jupyter-widgets/controls",
          "model_module_version": "1.5.0",
          "model_name": "HTMLModel",
          "state": {
            "_dom_classes": [],
            "_model_module": "@jupyter-widgets/controls",
            "_model_module_version": "1.5.0",
            "_model_name": "HTMLModel",
            "_view_count": null,
            "_view_module": "@jupyter-widgets/controls",
            "_view_module_version": "1.5.0",
            "_view_name": "HTMLView",
            "description": "",
            "description_tooltip": null,
            "layout": "IPY_MODEL_15a94550723142f1a133535b280ef710",
            "placeholder": "​",
            "style": "IPY_MODEL_c2225ce8b19c4e19a5b2176b9fe26f3b",
            "value": " 9912422/9912422 [00:00&lt;00:00, 61275780.16it/s]"
          }
        },
        "ee93e0843ef74259b698d246daeda6af": {
          "model_module": "@jupyter-widgets/controls",
          "model_module_version": "1.5.0",
          "model_name": "ProgressStyleModel",
          "state": {
            "_model_module": "@jupyter-widgets/controls",
            "_model_module_version": "1.5.0",
            "_model_name": "ProgressStyleModel",
            "_view_count": null,
            "_view_module": "@jupyter-widgets/base",
            "_view_module_version": "1.2.0",
            "_view_name": "StyleView",
            "bar_color": null,
            "description_width": ""
          }
        },
        "f486067852d54942919c506807fe2020": {
          "model_module": "@jupyter-widgets/controls",
          "model_module_version": "1.5.0",
          "model_name": "HTMLModel",
          "state": {
            "_dom_classes": [],
            "_model_module": "@jupyter-widgets/controls",
            "_model_module_version": "1.5.0",
            "_model_name": "HTMLModel",
            "_view_count": null,
            "_view_module": "@jupyter-widgets/controls",
            "_view_module_version": "1.5.0",
            "_view_name": "HTMLView",
            "description": "",
            "description_tooltip": null,
            "layout": "IPY_MODEL_f961ded0013b4fb7aaa5fd6c110fea3e",
            "placeholder": "​",
            "style": "IPY_MODEL_03550da3fcef4781bd6166a06a52f4ef",
            "value": "100%"
          }
        },
        "f961ded0013b4fb7aaa5fd6c110fea3e": {
          "model_module": "@jupyter-widgets/base",
          "model_module_version": "1.2.0",
          "model_name": "LayoutModel",
          "state": {
            "_model_module": "@jupyter-widgets/base",
            "_model_module_version": "1.2.0",
            "_model_name": "LayoutModel",
            "_view_count": null,
            "_view_module": "@jupyter-widgets/base",
            "_view_module_version": "1.2.0",
            "_view_name": "LayoutView",
            "align_content": null,
            "align_items": null,
            "align_self": null,
            "border": null,
            "bottom": null,
            "display": null,
            "flex": null,
            "flex_flow": null,
            "grid_area": null,
            "grid_auto_columns": null,
            "grid_auto_flow": null,
            "grid_auto_rows": null,
            "grid_column": null,
            "grid_gap": null,
            "grid_row": null,
            "grid_template_areas": null,
            "grid_template_columns": null,
            "grid_template_rows": null,
            "height": null,
            "justify_content": null,
            "justify_items": null,
            "left": null,
            "margin": null,
            "max_height": null,
            "max_width": null,
            "min_height": null,
            "min_width": null,
            "object_fit": null,
            "object_position": null,
            "order": null,
            "overflow": null,
            "overflow_x": null,
            "overflow_y": null,
            "padding": null,
            "right": null,
            "top": null,
            "visibility": null,
            "width": null
          }
        },
        "fdb25db685af45b9b2b4542cf37a9d0f": {
          "model_module": "@jupyter-widgets/base",
          "model_module_version": "1.2.0",
          "model_name": "LayoutModel",
          "state": {
            "_model_module": "@jupyter-widgets/base",
            "_model_module_version": "1.2.0",
            "_model_name": "LayoutModel",
            "_view_count": null,
            "_view_module": "@jupyter-widgets/base",
            "_view_module_version": "1.2.0",
            "_view_name": "LayoutView",
            "align_content": null,
            "align_items": null,
            "align_self": null,
            "border": null,
            "bottom": null,
            "display": null,
            "flex": null,
            "flex_flow": null,
            "grid_area": null,
            "grid_auto_columns": null,
            "grid_auto_flow": null,
            "grid_auto_rows": null,
            "grid_column": null,
            "grid_gap": null,
            "grid_row": null,
            "grid_template_areas": null,
            "grid_template_columns": null,
            "grid_template_rows": null,
            "height": null,
            "justify_content": null,
            "justify_items": null,
            "left": null,
            "margin": null,
            "max_height": null,
            "max_width": null,
            "min_height": null,
            "min_width": null,
            "object_fit": null,
            "object_position": null,
            "order": null,
            "overflow": null,
            "overflow_x": null,
            "overflow_y": null,
            "padding": null,
            "right": null,
            "top": null,
            "visibility": null,
            "width": null
          }
        }
      }
    }
  },
  "nbformat": 4,
  "nbformat_minor": 0
}
